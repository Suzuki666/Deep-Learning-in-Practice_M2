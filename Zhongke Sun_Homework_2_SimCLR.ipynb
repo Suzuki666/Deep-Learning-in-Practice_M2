{
  "cells": [
    {
      "cell_type": "markdown",
      "metadata": {
        "id": "CzibwThZF_jg"
      },
      "source": [
        "<h1 align=\"center\" style=\"color:green;font-size: 3em;\">Homework 2: Self-Supervised Visual Contrastive Learning with SimCLR</h1>\n",
        "\n",
        "**Introduction:**\n",
        "In this lab, we will explore the principles and practical applications of self-supervised learning. We will focus on the SimCLR approach.\n",
        "\n",
        "**Objectives:**\n",
        "- Exploring self-supervised learning\n",
        "\n",
        "**Instructions:**\n",
        "- Follow the notebook sections to implement various parts of this homework exercise.\n",
        "- Code cells marked with `TODO` are parts that you need to complete.\n",
        "- Ensure your code runs correctly by the end of the notebook.\n",
        "- **Make sure you're running a GPU runtime; if not, select \"GPU\" as the hardware accelerator in Runtime > Change Runtime Type in the menu.**"
      ]
    },
    {
      "cell_type": "code",
      "execution_count": 1,
      "metadata": {
        "colab": {
          "base_uri": "https://localhost:8080/"
        },
        "id": "QgiDp028F_ji",
        "outputId": "2314eb03-193b-488e-9355-ca93e1698af4"
      },
      "outputs": [
        {
          "name": "stdout",
          "output_type": "stream",
          "text": [
            "You selected as device: cuda:0\n"
          ]
        }
      ],
      "source": [
        "import os\n",
        "import io\n",
        "from PIL import Image\n",
        "from tqdm import tqdm\n",
        "import torch\n",
        "import torchvision\n",
        "from torch import nn\n",
        "import torch.utils.data\n",
        "import torch.nn.functional as F\n",
        "import matplotlib.pyplot as plt\n",
        "from torchvision import transforms\n",
        "\n",
        "import numpy as np\n",
        "from matplotlib import pyplot as plt\n",
        "\n",
        "device = torch.device(\"cuda:0\" if torch.cuda.is_available() else \"cpu\")\n",
        "print(f\"You selected as device: {device}\")"
      ]
    },
    {
      "cell_type": "markdown",
      "metadata": {
        "id": "ZtWFHvIrF_jj"
      },
      "source": [
        "# Introduction\n",
        "\n",
        "In this lab, we will explore the principles and practical applications of self-supervised learning, first in a uni-modal setting, and then in a multimodal setting. We will focus on the SimCLR and CLIP models respectively.\n",
        "\n",
        "\n",
        "### Objectives\n",
        "- Exploring self-supervised learning\n",
        "- Handling multimodal data  "
      ]
    },
    {
      "cell_type": "markdown",
      "metadata": {
        "id": "tRzjA3dmF_jj"
      },
      "source": [
        "# Self-Supervised Learning: SimCLR\n",
        "\n",
        "## How SimCLR works?\n",
        "SimCLR, short for Simple Framework for Contrastive Learning of Visual Representations, is a self-supervised learning method designed to train deep neural networks without labeled data. It enables models to learn meaningful visual representations by contrasting positive pairs (augmented views of the same image) against negatives.\n",
        "\n",
        "\n",
        "\n",
        "<img src=\"https://production-media.paperswithcode.com/methods/Screen_Shot_2020-07-02_at_4.31.34_PM_7zlWDQE.png\" width=300>\n",
        "\n",
        "Figure: A simple framework for contrastive learning of visual representation [Chen et al, 2020]\n",
        "\n",
        "In practice, SimCLR relies on:\n",
        "\n",
        "1. Data Augmentation:\n",
        "Randomly sample a minibatch $B$ of samples, and apply two different data augmentations to each sample $x$, resulting in $2N$ augmented samples:\n",
        "\n",
        "$\\tilde{x_i}=t(x), \\tilde{x_j}=t'(x), t,t' \\sim T$\n",
        "\n",
        "where $t,t'$ are two separate data augmentation operators, sampled from the same family of augmentation $T$.\n",
        "Data augmentation includes random crop, resize with random flip, color distortions, and Gaussian blur.\n",
        "\n",
        "2. Given one positive pair, other\n",
        " data points are treated as negative samples. The representation is produced by a base encoder $f(.)$ (e.g. ResNet-18):\n",
        "\n",
        "$h_i = f(\\tilde{x_i}), h_j = f(\\tilde{x_j})$\n",
        "\n",
        "3. The contrastive learning loss is defined using cosine similarity $\\text{sim}(.,.)$. The loss is computed on an projection layer of the representation  rather than on the representation space directly. The representation $h$ is used for downstream tasks.\n",
        "\n",
        "$L_\\text{simclr}^{(i,j)} = -\\text{log} \\frac{\\text{exp}( \\text{sim}(z_i, z_j)/ \\tau)}{\\sum_{k=1}^{2N} \\mathbb{1}_{[k \\neq i]} \\text{exp}( \\text{sim}(z_i, z_k)/ \\tau)}$, $\\mathbb{1}_{[k \\neq i]}$ the indicator function, 1 if $k \\neq i$ 0 otherwise.\n",
        "\n",
        "\n",
        "\n",
        "For more details see: https://arxiv.org/pdf/2002.05709\n",
        "\n",
        "\n",
        "\n",
        "Self-supervised learning (SSL) approaches for image understanding have demonstrated state-of-the-art performance across various settings. These methods are particularly effective when trained on large-scale datasets containing millions of images, enabling the learning of general-purpose representations. To gain a practical understanding of these methodologies, we will experiment with CIFAR-100, a smaller-scale dataset that simplifies the exploration of SSL concepts while preserving their core principles.\n",
        "\n",
        "We will compare a fully-supervised baseline with a backbone pretrained using SimCLR, followed by fine-tuning. This comparison will highlight some benefits of self-supervised pretraining."
      ]
    },
    {
      "cell_type": "markdown",
      "metadata": {
        "id": "HpDUPOLRF_jj"
      },
      "source": [
        "### Question 1.1\n",
        "Train a fully-supervised baseline on CIFAR-100.\n",
        "\n",
        "Use the ResNet-18 on CIFAR-100 for 20 epochs and log both train and test loss and accuracy.\n",
        "Hparameters are to be choosen to your discretion.\n",
        "\n",
        "Hparams:\n",
        "- Use Adam with some weight decay to avoid overfitting\n",
        "- Use data augmentation strategy to avoid overfitting on the training data"
      ]
    },
    {
      "cell_type": "code",
      "execution_count": 2,
      "metadata": {
        "id": "0_nzticBF_jk"
      },
      "outputs": [],
      "source": [
        "def supervised_baseline(n_epochs, batch_size, lr):\n",
        "    # - transformations\n",
        "    train_transform = transforms.Compose([\n",
        "        transforms.autoaugment.AutoAugment(policy=transforms.AutoAugmentPolicy.CIFAR10),\n",
        "        transforms.ToTensor(),\n",
        "        transforms.Normalize((0.4914, 0.4822, 0.4465), (0.2470, 0.2435, 0.2616))])\n",
        "    test_transform = transforms.Compose([\n",
        "        transforms.ToTensor(),\n",
        "        transforms.Normalize((0.4914, 0.4822, 0.4465), (0.2470, 0.2435, 0.2616))])\n",
        "\n",
        "    # - dataset and dataloader\n",
        "    trainset = torchvision.datasets.CIFAR100(root=\"./data\", train=True, transform=train_transform, download=True)\n",
        "    trainloader = torch.utils.data.DataLoader(trainset,batch_size=batch_size,shuffle=True,num_workers=2)\n",
        "\n",
        "    testset = torchvision.datasets.CIFAR100(root=\"./data\", train=False, transform=test_transform, download=True)\n",
        "    testloader = torch.utils.data.DataLoader(testset, batch_size=batch_size,shuffle=False, num_workers=2)\n",
        "\n",
        "    # - model\n",
        "    model = torchvision.models.resnet18(pretrained=False) # load the architecture\n",
        "    model.fc = nn.Linear(model.fc.in_features, 100) # change the output layer to match the number of classes\n",
        "    model = model.to(device)\n",
        "    criterion = nn.CrossEntropyLoss()\n",
        "    optimizer = torch.optim.Adam(model.parameters(), lr=lr, weight_decay=1e-5)\n",
        "\n",
        "    # - training loop\n",
        "    train_losses = []\n",
        "    train_accuracies = []\n",
        "    test_accuracies = []\n",
        "    test_losses  = []\n",
        "    for epoch in range(n_epochs): # loop over the dataset multiple times\n",
        "        model.train()\n",
        "        epoch_loss = 0.0\n",
        "        epoch_acc = 0.0\n",
        "        print(f\"Running epoch {epoch}\")\n",
        "        for _, batch in enumerate(tqdm(trainloader), 0):\n",
        "            inputs, labels = batch[0].to(device), batch[1].to(device)\n",
        "\n",
        "            # TODO: complete the remaining train code here.\n",
        "\n",
        "            # TODO 0: zero the gradients\n",
        "            optimizer.zero_grad()\n",
        "\n",
        "            # TODO 1: get the predictions and compute loss\n",
        "            outputs = model(inputs.to(device))\n",
        "            loss = criterion(outputs, labels.to(device))\n",
        "\n",
        "            # TODO 2: do backward\n",
        "            loss.backward()\n",
        "            optimizer.step()\n",
        "\n",
        "            # TODO 3: compute accuracy, track loss and accuracy\n",
        "            epoch_loss += loss.item()\n",
        "            epoch_acc += torch.eq(torch.max(outputs, 1)[1], labels.to(device)).sum().item()\n",
        "\n",
        "\n",
        "        # TODO 4: compute average train loss and accuracy\n",
        "        epoch_loss /= len(trainloader)\n",
        "        epoch_acc /= len(trainloader.dataset)\n",
        "        epoch_acc *= 100\n",
        "\n",
        "        # Print and track training loss and accuracy.\n",
        "        print(f'Epoch {epoch+1}/{n_epochs}, Train Loss: {epoch_loss:.3f}, Train Acc: {epoch_acc:.3f}')\n",
        "        train_losses.append(epoch_loss)\n",
        "        train_accuracies.append(epoch_acc)\n",
        "\n",
        "        with torch.no_grad():\n",
        "            test_acc = 0\n",
        "            test_loss = 0\n",
        "            for _, batch in enumerate(tqdm(testloader)):\n",
        "                inputs, labels = batch[0].to(device), batch[1].to(device)\n",
        "                # TODO: complete the remaining test code here.\n",
        "\n",
        "                # TODO 1: get prediction\n",
        "                outputs = model(inputs.to(device))\n",
        "\n",
        "                # TODO 2: compute loss\n",
        "                loss = criterion(outputs, labels)\n",
        "                test_loss += loss.item()\n",
        "\n",
        "                # TODO 3: compute accuracy\n",
        "                test_acc += torch.eq(torch.max(outputs, dim=1)[1], labels.to(device)).sum().item()\n",
        "\n",
        "            # TODO 4: compute average test loss and accuracy\n",
        "            test_loss /= len(testloader)\n",
        "            test_acc /= len(testloader.dataset)\n",
        "            test_acc *= 100\n",
        "\n",
        "            # Print and track test loss and accuracy.\n",
        "            test_accuracies.append(test_acc)\n",
        "            test_losses.append(test_loss)\n",
        "            print(f'Epoch {epoch+1}/{n_epochs}, Train Loss: {epoch_loss:.3f}, Train Acc: {epoch_acc:.3f}, Test Loss: {test_loss:.3f}, Test Acc: {test_acc:.3f}')\n",
        "\n",
        "\n",
        "    # Do plots\n",
        "    plt.plot(train_losses, label=\"train loss\")\n",
        "    plt.plot(test_losses, label=\"test loss\")\n",
        "    plt.show()\n",
        "    # - acc curves\n",
        "    plt.plot(train_accuracies, label=\"train accuracy\")\n",
        "    plt.plot(test_accuracies, label=\"test accuracy\")\n",
        "    plt.show()"
      ]
    },
    {
      "cell_type": "code",
      "execution_count": 3,
      "metadata": {
        "colab": {
          "base_uri": "https://localhost:8080/",
          "height": 1000
        },
        "id": "7bsfyrvsF_jk",
        "outputId": "36a1e917-e08d-44ad-8565-6a76955af1c9"
      },
      "outputs": [
        {
          "name": "stdout",
          "output_type": "stream",
          "text": [
            "Downloading https://www.cs.toronto.edu/~kriz/cifar-100-python.tar.gz to ./data/cifar-100-python.tar.gz\n"
          ]
        },
        {
          "name": "stderr",
          "output_type": "stream",
          "text": [
            "100%|██████████| 169M/169M [00:05<00:00, 28.2MB/s]\n"
          ]
        },
        {
          "name": "stdout",
          "output_type": "stream",
          "text": [
            "Extracting ./data/cifar-100-python.tar.gz to ./data\n",
            "Files already downloaded and verified\n"
          ]
        },
        {
          "name": "stderr",
          "output_type": "stream",
          "text": [
            "/usr/local/lib/python3.11/dist-packages/torchvision/models/_utils.py:208: UserWarning: The parameter 'pretrained' is deprecated since 0.13 and may be removed in the future, please use 'weights' instead.\n",
            "  warnings.warn(\n",
            "/usr/local/lib/python3.11/dist-packages/torchvision/models/_utils.py:223: UserWarning: Arguments other than a weight enum or `None` for 'weights' are deprecated since 0.13 and may be removed in the future. The current behavior is equivalent to passing `weights=None`.\n",
            "  warnings.warn(msg)\n"
          ]
        },
        {
          "name": "stdout",
          "output_type": "stream",
          "text": [
            "Running epoch 0\n"
          ]
        },
        {
          "name": "stderr",
          "output_type": "stream",
          "text": [
            "100%|██████████| 391/391 [00:19<00:00, 19.66it/s]\n"
          ]
        },
        {
          "name": "stdout",
          "output_type": "stream",
          "text": [
            "Epoch 1/20, Train Loss: 4.059, Train Acc: 9.024\n"
          ]
        },
        {
          "name": "stderr",
          "output_type": "stream",
          "text": [
            "100%|██████████| 79/79 [00:01<00:00, 54.73it/s]\n"
          ]
        },
        {
          "name": "stdout",
          "output_type": "stream",
          "text": [
            "Epoch 1/20, Train Loss: 4.059, Train Acc: 9.024, Test Loss: 3.359, Test Acc: 19.670\n",
            "Running epoch 1\n"
          ]
        },
        {
          "name": "stderr",
          "output_type": "stream",
          "text": [
            "100%|██████████| 391/391 [00:16<00:00, 24.33it/s]\n"
          ]
        },
        {
          "name": "stdout",
          "output_type": "stream",
          "text": [
            "Epoch 2/20, Train Loss: 3.471, Train Acc: 18.038\n"
          ]
        },
        {
          "name": "stderr",
          "output_type": "stream",
          "text": [
            "100%|██████████| 79/79 [00:01<00:00, 53.55it/s]\n"
          ]
        },
        {
          "name": "stdout",
          "output_type": "stream",
          "text": [
            "Epoch 2/20, Train Loss: 3.471, Train Acc: 18.038, Test Loss: 2.924, Test Acc: 27.280\n",
            "Running epoch 2\n"
          ]
        },
        {
          "name": "stderr",
          "output_type": "stream",
          "text": [
            "100%|██████████| 391/391 [00:16<00:00, 24.19it/s]\n"
          ]
        },
        {
          "name": "stdout",
          "output_type": "stream",
          "text": [
            "Epoch 3/20, Train Loss: 3.138, Train Acc: 24.000\n"
          ]
        },
        {
          "name": "stderr",
          "output_type": "stream",
          "text": [
            "100%|██████████| 79/79 [00:01<00:00, 62.03it/s]\n"
          ]
        },
        {
          "name": "stdout",
          "output_type": "stream",
          "text": [
            "Epoch 3/20, Train Loss: 3.138, Train Acc: 24.000, Test Loss: 2.662, Test Acc: 32.460\n",
            "Running epoch 3\n"
          ]
        },
        {
          "name": "stderr",
          "output_type": "stream",
          "text": [
            "100%|██████████| 391/391 [00:16<00:00, 24.14it/s]\n"
          ]
        },
        {
          "name": "stdout",
          "output_type": "stream",
          "text": [
            "Epoch 4/20, Train Loss: 2.901, Train Acc: 28.158\n"
          ]
        },
        {
          "name": "stderr",
          "output_type": "stream",
          "text": [
            "100%|██████████| 79/79 [00:01<00:00, 61.21it/s]\n"
          ]
        },
        {
          "name": "stdout",
          "output_type": "stream",
          "text": [
            "Epoch 4/20, Train Loss: 2.901, Train Acc: 28.158, Test Loss: 2.504, Test Acc: 36.670\n",
            "Running epoch 4\n"
          ]
        },
        {
          "name": "stderr",
          "output_type": "stream",
          "text": [
            "100%|██████████| 391/391 [00:15<00:00, 24.90it/s]\n"
          ]
        },
        {
          "name": "stdout",
          "output_type": "stream",
          "text": [
            "Epoch 5/20, Train Loss: 2.711, Train Acc: 32.306\n"
          ]
        },
        {
          "name": "stderr",
          "output_type": "stream",
          "text": [
            "100%|██████████| 79/79 [00:01<00:00, 56.22it/s]\n"
          ]
        },
        {
          "name": "stdout",
          "output_type": "stream",
          "text": [
            "Epoch 5/20, Train Loss: 2.711, Train Acc: 32.306, Test Loss: 2.361, Test Acc: 39.520\n",
            "Running epoch 5\n"
          ]
        },
        {
          "name": "stderr",
          "output_type": "stream",
          "text": [
            "100%|██████████| 391/391 [00:15<00:00, 24.72it/s]\n"
          ]
        },
        {
          "name": "stdout",
          "output_type": "stream",
          "text": [
            "Epoch 6/20, Train Loss: 2.558, Train Acc: 35.314\n"
          ]
        },
        {
          "name": "stderr",
          "output_type": "stream",
          "text": [
            "100%|██████████| 79/79 [00:01<00:00, 61.48it/s]\n"
          ]
        },
        {
          "name": "stdout",
          "output_type": "stream",
          "text": [
            "Epoch 6/20, Train Loss: 2.558, Train Acc: 35.314, Test Loss: 2.279, Test Acc: 40.570\n",
            "Running epoch 6\n"
          ]
        },
        {
          "name": "stderr",
          "output_type": "stream",
          "text": [
            "100%|██████████| 391/391 [00:16<00:00, 23.45it/s]\n"
          ]
        },
        {
          "name": "stdout",
          "output_type": "stream",
          "text": [
            "Epoch 7/20, Train Loss: 2.409, Train Acc: 38.452\n"
          ]
        },
        {
          "name": "stderr",
          "output_type": "stream",
          "text": [
            "100%|██████████| 79/79 [00:01<00:00, 63.44it/s]\n"
          ]
        },
        {
          "name": "stdout",
          "output_type": "stream",
          "text": [
            "Epoch 7/20, Train Loss: 2.409, Train Acc: 38.452, Test Loss: 2.188, Test Acc: 43.190\n",
            "Running epoch 7\n"
          ]
        },
        {
          "name": "stderr",
          "output_type": "stream",
          "text": [
            "100%|██████████| 391/391 [00:16<00:00, 24.33it/s]\n"
          ]
        },
        {
          "name": "stdout",
          "output_type": "stream",
          "text": [
            "Epoch 8/20, Train Loss: 2.278, Train Acc: 41.438\n"
          ]
        },
        {
          "name": "stderr",
          "output_type": "stream",
          "text": [
            "100%|██████████| 79/79 [00:01<00:00, 64.48it/s]\n"
          ]
        },
        {
          "name": "stdout",
          "output_type": "stream",
          "text": [
            "Epoch 8/20, Train Loss: 2.278, Train Acc: 41.438, Test Loss: 2.123, Test Acc: 44.130\n",
            "Running epoch 8\n"
          ]
        },
        {
          "name": "stderr",
          "output_type": "stream",
          "text": [
            "100%|██████████| 391/391 [00:15<00:00, 24.45it/s]\n"
          ]
        },
        {
          "name": "stdout",
          "output_type": "stream",
          "text": [
            "Epoch 9/20, Train Loss: 2.160, Train Acc: 43.796\n"
          ]
        },
        {
          "name": "stderr",
          "output_type": "stream",
          "text": [
            "100%|██████████| 79/79 [00:01<00:00, 50.59it/s]\n"
          ]
        },
        {
          "name": "stdout",
          "output_type": "stream",
          "text": [
            "Epoch 9/20, Train Loss: 2.160, Train Acc: 43.796, Test Loss: 2.098, Test Acc: 45.580\n",
            "Running epoch 9\n"
          ]
        },
        {
          "name": "stderr",
          "output_type": "stream",
          "text": [
            "100%|██████████| 391/391 [00:16<00:00, 24.18it/s]\n"
          ]
        },
        {
          "name": "stdout",
          "output_type": "stream",
          "text": [
            "Epoch 10/20, Train Loss: 2.040, Train Acc: 46.754\n"
          ]
        },
        {
          "name": "stderr",
          "output_type": "stream",
          "text": [
            "100%|██████████| 79/79 [00:01<00:00, 56.23it/s]\n"
          ]
        },
        {
          "name": "stdout",
          "output_type": "stream",
          "text": [
            "Epoch 10/20, Train Loss: 2.040, Train Acc: 46.754, Test Loss: 2.085, Test Acc: 45.640\n",
            "Running epoch 10\n"
          ]
        },
        {
          "name": "stderr",
          "output_type": "stream",
          "text": [
            "100%|██████████| 391/391 [00:16<00:00, 23.82it/s]\n"
          ]
        },
        {
          "name": "stdout",
          "output_type": "stream",
          "text": [
            "Epoch 11/20, Train Loss: 1.940, Train Acc: 48.996\n"
          ]
        },
        {
          "name": "stderr",
          "output_type": "stream",
          "text": [
            "100%|██████████| 79/79 [00:01<00:00, 57.40it/s]\n"
          ]
        },
        {
          "name": "stdout",
          "output_type": "stream",
          "text": [
            "Epoch 11/20, Train Loss: 1.940, Train Acc: 48.996, Test Loss: 2.067, Test Acc: 46.010\n",
            "Running epoch 11\n"
          ]
        },
        {
          "name": "stderr",
          "output_type": "stream",
          "text": [
            "100%|██████████| 391/391 [00:16<00:00, 24.11it/s]\n"
          ]
        },
        {
          "name": "stdout",
          "output_type": "stream",
          "text": [
            "Epoch 12/20, Train Loss: 1.838, Train Acc: 51.472\n"
          ]
        },
        {
          "name": "stderr",
          "output_type": "stream",
          "text": [
            "100%|██████████| 79/79 [00:01<00:00, 61.82it/s]\n"
          ]
        },
        {
          "name": "stdout",
          "output_type": "stream",
          "text": [
            "Epoch 12/20, Train Loss: 1.838, Train Acc: 51.472, Test Loss: 2.073, Test Acc: 45.990\n",
            "Running epoch 12\n"
          ]
        },
        {
          "name": "stderr",
          "output_type": "stream",
          "text": [
            "100%|██████████| 391/391 [00:16<00:00, 23.52it/s]\n"
          ]
        },
        {
          "name": "stdout",
          "output_type": "stream",
          "text": [
            "Epoch 13/20, Train Loss: 1.744, Train Acc: 54.280\n"
          ]
        },
        {
          "name": "stderr",
          "output_type": "stream",
          "text": [
            "100%|██████████| 79/79 [00:01<00:00, 59.66it/s]\n"
          ]
        },
        {
          "name": "stdout",
          "output_type": "stream",
          "text": [
            "Epoch 13/20, Train Loss: 1.744, Train Acc: 54.280, Test Loss: 2.036, Test Acc: 47.210\n",
            "Running epoch 13\n"
          ]
        },
        {
          "name": "stderr",
          "output_type": "stream",
          "text": [
            "100%|██████████| 391/391 [00:16<00:00, 23.97it/s]\n"
          ]
        },
        {
          "name": "stdout",
          "output_type": "stream",
          "text": [
            "Epoch 14/20, Train Loss: 1.646, Train Acc: 56.504\n"
          ]
        },
        {
          "name": "stderr",
          "output_type": "stream",
          "text": [
            "100%|██████████| 79/79 [00:01<00:00, 63.63it/s]\n"
          ]
        },
        {
          "name": "stdout",
          "output_type": "stream",
          "text": [
            "Epoch 14/20, Train Loss: 1.646, Train Acc: 56.504, Test Loss: 2.055, Test Acc: 47.670\n",
            "Running epoch 14\n"
          ]
        },
        {
          "name": "stderr",
          "output_type": "stream",
          "text": [
            "100%|██████████| 391/391 [00:16<00:00, 24.35it/s]\n"
          ]
        },
        {
          "name": "stdout",
          "output_type": "stream",
          "text": [
            "Epoch 15/20, Train Loss: 1.571, Train Acc: 58.454\n"
          ]
        },
        {
          "name": "stderr",
          "output_type": "stream",
          "text": [
            "100%|██████████| 79/79 [00:01<00:00, 60.74it/s]\n"
          ]
        },
        {
          "name": "stdout",
          "output_type": "stream",
          "text": [
            "Epoch 15/20, Train Loss: 1.571, Train Acc: 58.454, Test Loss: 2.086, Test Acc: 47.460\n",
            "Running epoch 15\n"
          ]
        },
        {
          "name": "stderr",
          "output_type": "stream",
          "text": [
            "100%|██████████| 391/391 [00:16<00:00, 24.28it/s]\n"
          ]
        },
        {
          "name": "stdout",
          "output_type": "stream",
          "text": [
            "Epoch 16/20, Train Loss: 1.490, Train Acc: 60.576\n"
          ]
        },
        {
          "name": "stderr",
          "output_type": "stream",
          "text": [
            "100%|██████████| 79/79 [00:01<00:00, 62.61it/s]\n"
          ]
        },
        {
          "name": "stdout",
          "output_type": "stream",
          "text": [
            "Epoch 16/20, Train Loss: 1.490, Train Acc: 60.576, Test Loss: 2.105, Test Acc: 47.530\n",
            "Running epoch 16\n"
          ]
        },
        {
          "name": "stderr",
          "output_type": "stream",
          "text": [
            "100%|██████████| 391/391 [00:16<00:00, 23.42it/s]\n"
          ]
        },
        {
          "name": "stdout",
          "output_type": "stream",
          "text": [
            "Epoch 17/20, Train Loss: 1.416, Train Acc: 62.676\n"
          ]
        },
        {
          "name": "stderr",
          "output_type": "stream",
          "text": [
            "100%|██████████| 79/79 [00:01<00:00, 55.62it/s]\n"
          ]
        },
        {
          "name": "stdout",
          "output_type": "stream",
          "text": [
            "Epoch 17/20, Train Loss: 1.416, Train Acc: 62.676, Test Loss: 2.148, Test Acc: 46.850\n",
            "Running epoch 17\n"
          ]
        },
        {
          "name": "stderr",
          "output_type": "stream",
          "text": [
            "100%|██████████| 391/391 [00:15<00:00, 24.48it/s]\n"
          ]
        },
        {
          "name": "stdout",
          "output_type": "stream",
          "text": [
            "Epoch 18/20, Train Loss: 1.351, Train Acc: 64.270\n"
          ]
        },
        {
          "name": "stderr",
          "output_type": "stream",
          "text": [
            "100%|██████████| 79/79 [00:01<00:00, 54.63it/s]\n"
          ]
        },
        {
          "name": "stdout",
          "output_type": "stream",
          "text": [
            "Epoch 18/20, Train Loss: 1.351, Train Acc: 64.270, Test Loss: 2.165, Test Acc: 47.820\n",
            "Running epoch 18\n"
          ]
        },
        {
          "name": "stderr",
          "output_type": "stream",
          "text": [
            "100%|██████████| 391/391 [00:16<00:00, 24.05it/s]\n"
          ]
        },
        {
          "name": "stdout",
          "output_type": "stream",
          "text": [
            "Epoch 19/20, Train Loss: 1.282, Train Acc: 66.292\n"
          ]
        },
        {
          "name": "stderr",
          "output_type": "stream",
          "text": [
            "100%|██████████| 79/79 [00:01<00:00, 55.41it/s]\n"
          ]
        },
        {
          "name": "stdout",
          "output_type": "stream",
          "text": [
            "Epoch 19/20, Train Loss: 1.282, Train Acc: 66.292, Test Loss: 2.196, Test Acc: 47.710\n",
            "Running epoch 19\n"
          ]
        },
        {
          "name": "stderr",
          "output_type": "stream",
          "text": [
            "100%|██████████| 391/391 [00:16<00:00, 24.08it/s]\n"
          ]
        },
        {
          "name": "stdout",
          "output_type": "stream",
          "text": [
            "Epoch 20/20, Train Loss: 1.250, Train Acc: 67.186\n"
          ]
        },
        {
          "name": "stderr",
          "output_type": "stream",
          "text": [
            "100%|██████████| 79/79 [00:01<00:00, 61.16it/s]\n"
          ]
        },
        {
          "name": "stdout",
          "output_type": "stream",
          "text": [
            "Epoch 20/20, Train Loss: 1.250, Train Acc: 67.186, Test Loss: 2.223, Test Acc: 47.650\n"
          ]
        },
        {
          "data": {
            "image/png": "[encoded data removed]",
            "text/plain": [
              "<Figure size 640x480 with 1 Axes>"
            ]
          },
          "metadata": {},
          "output_type": "display_data"
        },
        {
          "data": {
            "image/png": "[encoded data removed]",
            "text/plain": [
              "<Figure size 640x480 with 1 Axes>"
            ]
          },
          "metadata": {},
          "output_type": "display_data"
        }
      ],
      "source": [
        "lr = 1e-3\n",
        "batch_size = 128\n",
        "n_epochs = 20\n",
        "supervised_baseline(n_epochs=n_epochs, lr=lr, batch_size=batch_size)"
      ]
    },
    {
      "cell_type": "markdown",
      "metadata": {
        "id": "rZ_40c_7F_jk"
      },
      "source": [
        "### Question 1.2\n",
        "We need to prepare the data loading such that we sample two different, random augmentations for each image in the batch. The easiest way to do this is by creating a class that, when being called, applies a set of data augmentations to an image twice. This is implemented in the class CustomTransform below.\n",
        "\n",
        "Implement the Data Augmentation module."
      ]
    },
    {
      "cell_type": "code",
      "execution_count": 4,
      "metadata": {
        "id": "aUK7Oeb9F_jk"
      },
      "outputs": [],
      "source": [
        "class CustomTransform(object):\n",
        "    \"\"\"Custom Transform class for SimCLR\"\"\"\n",
        "    def __init__(self, transform):\n",
        "        \"\"\"Initializes the transforms\"\"\"\n",
        "        self.transforms = transform\n",
        "\n",
        "    def __call__(self, x):\n",
        "        \"\"\"Applies the two transformations to the input x\n",
        "\n",
        "        __call__ method allows an instance of a class to\n",
        "        be called as if it were a function.\n",
        "\n",
        "        Parameters\n",
        "        ----------\n",
        "        x: torch.Tensor\n",
        "            Input image tensor to be transformed\n",
        "\n",
        "        Returns\n",
        "        -------\n",
        "        x1, x2: torch.Tensor, torch.Tensor\n",
        "            Transformed images\n",
        "        \"\"\"\n",
        "        # TODO\n",
        "        x1 = self.transforms(x)\n",
        "        x2 = self.transforms(x)\n",
        "        # return two different augmented versions\n",
        "        return x1, x2"
      ]
    },
    {
      "cell_type": "markdown",
      "metadata": {
        "id": "lmLR_kVoF_jk"
      },
      "source": [
        "### Visualize the two augmented views on an image\n",
        "\n",
        "Plot a few pairs of transformed images from the dataset using `CustomTransform`\n",
        "\n",
        "Tip. CIFAR-100 is a low resolution data set, thus images may appear highly pixelized."
      ]
    },
    {
      "cell_type": "code",
      "execution_count": 5,
      "metadata": {
        "colab": {
          "base_uri": "https://localhost:8080/"
        },
        "id": "hqJkOK7dF_jl",
        "outputId": "fd2338c0-709f-4c50-9cdb-5c78b88d025f"
      },
      "outputs": [
        {
          "name": "stdout",
          "output_type": "stream",
          "text": [
            "Files already downloaded and verified\n"
          ]
        }
      ],
      "source": [
        "base_transform = transforms.Compose([\n",
        "    transforms.RandomHorizontalFlip(),\n",
        "    transforms.RandomResizedCrop(size=32),\n",
        "    transforms.RandomApply([\n",
        "        transforms.ColorJitter(brightness=0.5,\n",
        "                                contrast=0.5,\n",
        "                                saturation=0.5,\n",
        "                                hue=0.1)\n",
        "    ], p=0.8),\n",
        "    transforms.RandomGrayscale(p=0.2),\n",
        "    transforms.GaussianBlur(kernel_size=9),\n",
        "    transforms.Resize((32, 32)),\n",
        "    transforms.ToTensor()\n",
        "])\n",
        "paired_transformed = CustomTransform(base_transform)\n",
        "train_set = torchvision.datasets.CIFAR100(root=\"./data\",\n",
        "                                          train=True,\n",
        "                                          transform=paired_transformed,\n",
        "                                          download=True)\n",
        "item = train_set[0][0]\n"
      ]
    },
    {
      "cell_type": "code",
      "execution_count": 6,
      "metadata": {
        "colab": {
          "base_uri": "https://localhost:8080/",
          "height": 235
        },
        "id": "J7V_aw99F_jl",
        "outputId": "a83c4abc-7306-4214-a9dd-00835883910a"
      },
      "outputs": [
        {
          "data": {
            "image/png": "[encoded data removed]",
            "text/plain": [
              "<Figure size 500x300 with 2 Axes>"
            ]
          },
          "metadata": {},
          "output_type": "display_data"
        }
      ],
      "source": [
        "def  plot_images(im1, im2):\n",
        "    \"\"\"Plot two images side by side\n",
        "\n",
        "    Parameters\n",
        "    ----------\n",
        "    im1: torch.Tensor\n",
        "        First image\n",
        "    im2: torch.Tensor\n",
        "        Second image\n",
        "    \"\"\"\n",
        "    # Create a figure with two subplots side by side\n",
        "    _, (ax1, ax2) = plt.subplots(1, 2, figsize=(5, 3))\n",
        "\n",
        "    # Display the first image\n",
        "    ax1.imshow(im1)\n",
        "    ax1.set_title('Image 1')\n",
        "    ax1.axis('off')  # Hide axes ticks\n",
        "\n",
        "    # Display the second image\n",
        "    ax2.imshow(im2)\n",
        "    ax2.set_title('Image 2')\n",
        "    ax2.axis('off')  # Hide axes ticks\n",
        "\n",
        "plot_images(train_set[0][0][0].permute(1, 2, 0),\n",
        "            train_set[0][0][1].permute(1, 2, 0))"
      ]
    },
    {
      "cell_type": "markdown",
      "metadata": {
        "id": "-f4kMibVF_jl"
      },
      "source": [
        "### Question 1.3\n",
        "\n",
        "To implement the SimCLR architecture, we need a model composed of:\n",
        "- the backbone $f$ (e.g. ResNet-18)\n",
        "- the projection head ($g$), a two layer MLP\n",
        "- at each forward pass, return the represention ($h = f(x)$) and the projection ($z = g(h)$)\n",
        "\n",
        "Implement the model.\n",
        "\n",
        "Tip.\n",
        "- Remove the last fully connected layer from ResNet-18 (which is the classifier layer when used with ImageNet), you can do this by replacing it by `nn.Identity`"
      ]
    },
    {
      "cell_type": "code",
      "execution_count": 16,
      "metadata": {
        "id": "Vm0Ixl78F_jl"
      },
      "outputs": [],
      "source": [
        "class SimCLRModel(nn.Module):\n",
        "    def __init__(self, hidden_dim=2048, projection_dim=128):\n",
        "        \"\"\"\n",
        "        Backbone class which returns the hidden representation h and the projection z\n",
        "\n",
        "        Parameters:\n",
        "        -----------\n",
        "        hidden_dim: int\n",
        "            The hidden dimension of the projector. Default is 512\n",
        "        projection_dim: int\n",
        "            The dimension of the output features after projection. Default is 128\n",
        "        \"\"\"\n",
        "        super(SimCLRModel, self).__init__()\n",
        "\n",
        "        self.backbone = torchvision.models.resnet18(pretrained = False)\n",
        "        # Get the input size of the last layer fc of ResNet-18\n",
        "        out_features = self.backbone.fc.in_features\n",
        "        # Remove the classification layer, replace it with Identity, output feature h\n",
        "        self.backbone.fc = nn.Identity()\n",
        "        # TODO:\n",
        "        # self.projector = ... # define it as a 2-layer MLP.\n",
        "\n",
        "        self.projector = nn.Sequential(\n",
        "            nn.Linear(out_features, hidden_dim),\n",
        "            nn.BatchNorm1d(hidden_dim),\n",
        "            nn.ReLU(),\n",
        "            nn.Linear(hidden_dim, projection_dim)\n",
        "        )\n",
        "\n",
        "\n",
        "\n",
        "\n",
        "    def forward(self, x):\n",
        "        \"\"\"Forward pass\n",
        "\n",
        "        Parameters:\n",
        "        -----------\n",
        "        x: torch.Tensor\n",
        "            The input tensor\n",
        "\n",
        "        return the output features from the projection MLP.\n",
        "        \"\"\"\n",
        "        # TODO\n",
        "        # ResNet-18 extract features h\n",
        "        h = self.backbone(x)\n",
        "        # Use MLP for projection\n",
        "        z = self.projector(h)\n",
        "        return h, z"
      ]
    },
    {
      "cell_type": "markdown",
      "metadata": {
        "id": "bstTlAWbF_jl"
      },
      "source": [
        "### Question 1.4\n",
        "Implement the constrastive loss as mentionned in the introduction paragraph of SimCLR.\n",
        "\n",
        "$L_\\text{simclr}^{(i,j)} = -\\text{log} \\frac{\\text{exp}( \\text{sim}(z_i, z_j)/ \\tau)}{\\sum_{k=1}^{2N} \\mathbb{1}_{[k \\neq i]} \\text{exp}( \\text{sim}(z_i, z_k)/ \\tau)}$, $\\mathbb{1}_{[k \\neq i]}$ the indicator function, 1 if $k \\neq i$ 0 otherwise.\n",
        "\n",
        "Tip.\n",
        "You can first compute the 2N×2N matrix (both dimensions contain all augmented views) and then deduce the numerator and denominator by extracting the positives and negatives pairs.\n",
        "\n",
        "\n",
        "Illustration of the similarity matrix for a batch size \\(N=2\\):\n",
        "\n",
        "| Views  | View1A | View1B | View2A | View2B |\n",
        "|--------|--------|--------|--------|--------|\n",
        "| View1A |   -    |   ✓    |   ✗    |   ✗    |\n",
        "| View1B |   ✓    |   -    |   ✗    |   ✗    |\n",
        "| View2A |   ✗    |   ✗    |   -    |   ✓    |\n",
        "| View2B |   ✗    |   ✗    |   ✓    |   -    |\n",
        "\n",
        "\n",
        "- The similarity matrix is (2N)×(2N) where N is your batch size (because each sample has 2 augmented views)\n",
        "- Positive pairs (✓): Off-diagonal elements where View[i] A matches with View[i] B\n",
        "These are different augmentations of the same original image\n",
        "- Negative pairs (✗): All other off-diagonal elements\n",
        "- Diagonal elements (-): Removed because they represent self-similarity\n"
      ]
    },
    {
      "cell_type": "code",
      "execution_count": 17,
      "metadata": {
        "id": "CAeCx4PuF_jl"
      },
      "outputs": [],
      "source": [
        "class ContrastiveLoss(nn.Module):\n",
        "    \"\"\"\n",
        "    Contrastive loss, also called InfoNceLoss as in SimCLR paper\n",
        "    \"\"\"\n",
        "\n",
        "    def __init__(self, batch_size, temperature=0.05):\n",
        "        super().__init__()\n",
        "        self.batch_size = batch_size\n",
        "        self.temperature = temperature\n",
        "        self.mask = (~torch.eye(batch_size * 2, batch_size * 2, dtype=bool)).float()\n",
        "\n",
        "    def forward(self, proj_1, proj_2):\n",
        "        \"\"\"\n",
        "        proj_1 and proj_2 are batched embeddings [batch, embedding_dim]\n",
        "        where corresponding indices are pairs\n",
        "        z_i, z_j in the SimCLR paper\n",
        "\n",
        "        returns the loss\n",
        "        \"\"\"\n",
        "\n",
        "        # TODO L2-normalize the features.\n",
        "        z = F.normalize(torch.cat([proj_1, proj_2], dim=0), dim = 1)\n",
        "\n",
        "        # TODO: compute the 2N×2N matrix\n",
        "        similarity_matrix = torch.matmul(z, z.T) / self.temperature\n",
        "\n",
        "        # TODO: extract from similarity_matrix the similarities that correspond to the poitive pairs.\n",
        "        batch_size = proj_1.size(0)\n",
        "        pos_mask = torch.zeros_like(similarity_matrix, dtype=bool)\n",
        "        indices = torch.arange(batch_size)\n",
        "        pos_mask[indices, indices + batch_size] = True\n",
        "        pos_mask[indices + batch_size, indices] = True\n",
        "\n",
        "        # Positive sample extraction\n",
        "        positives = similarity_matrix[pos_mask].view(2 * batch_size, 1)\n",
        "\n",
        "        # TODO: extract from similarity_matrix the similarities that correspond to the negative pairs.\n",
        "        neg_mask = ~torch.eye(2 * batch_size, dtype=bool).to(z.device)\n",
        "        negatives = similarity_matrix[neg_mask & ~pos_mask].view(2 * batch_size, -1)\n",
        "\n",
        "        # TODO: compute the loss. Tips:\n",
        "        # - compute the explonentials of the positive (nominator) and negative (denominator) pairs\n",
        "        # - When summing the exponentials of the denominator take care to skip the similarities that correspond to the\n",
        "        #   diagonal (self-similarities)\n",
        "        logits = torch.cat([positives, negatives], dim=1)\n",
        "        loss = F.cross_entropy(logits, torch.zeros(2 * batch_size).long().to(z.device))\n",
        "\n",
        "        return loss"
      ]
    },
    {
      "cell_type": "markdown",
      "metadata": {
        "id": "As6wftXzF_jl"
      },
      "source": [
        "### Question 1.5\n",
        "Train the `SimCLRModel` on the CIFAR-100 dataset using the `ContrastiveLoss` for 100 epochs (for compute reason you can use only **10 epochs**) and log train losses.\n",
        "Hyperparameters are to be choosen to your discretion.\n",
        "\n",
        "Tips.\n",
        "- You can use the `torch.optim.Adam` with weight decay\n",
        "- You can set the temperature in `ContrastiveLoss` to 0.5\n",
        "\n",
        "Training takes around 30min (depending of hparams)."
      ]
    },
    {
      "cell_type": "code",
      "execution_count": 20,
      "metadata": {
        "id": "6O3CRYuyF_jl"
      },
      "outputs": [],
      "source": [
        "def unsupervised_training(device, lr,  n_epochs, batch_size, temperature=0.05):\n",
        "    \"\"\"Unsupervised training using SimCLR framework\n",
        "\n",
        "    Parameters\n",
        "    ----------\n",
        "    device: str\n",
        "        The device to use for training\n",
        "    lr: float\n",
        "        The learning rate\n",
        "    n_epochs: int\n",
        "        The number of epochs to train for\n",
        "\n",
        "    Returns\n",
        "    -------\n",
        "    model: nn.Module\n",
        "        the trained model\n",
        "    \"\"\"\n",
        "    # - Create the model\n",
        "    model = SimCLRModel(hidden_dim=512, projection_dim=128).to(device)\n",
        "    # - Data\n",
        "    base_transform = transforms.Compose([\n",
        "        transforms.RandomHorizontalFlip(),\n",
        "        transforms.RandomResizedCrop(size=32),\n",
        "        transforms.RandomApply([\n",
        "            transforms.ColorJitter(brightness=0.5,\n",
        "                                    contrast=0.5,\n",
        "                                    saturation=0.5,\n",
        "                                    hue=0.1)\n",
        "        ], p=0.8),\n",
        "        transforms.RandomGrayscale(p=0.2),\n",
        "        transforms.GaussianBlur(kernel_size=9),\n",
        "        transforms.Resize((32, 32)),\n",
        "        transforms.ToTensor()\n",
        "    ])\n",
        "    train_set = torchvision.datasets.CIFAR100(root=\"./data\",\n",
        "                                              train=True,\n",
        "                                              transform=CustomTransform(base_transform),\n",
        "                                              download=True)\n",
        "    train_loader = torch.utils.data.DataLoader(train_set, batch_size=batch_size, shuffle=True, drop_last=True)\n",
        "\n",
        "    # - optimizer and criterion\n",
        "    optimizer = torch.optim.Adam(model.parameters(), lr=lr, weight_decay=1e-5)\n",
        "    criterion = ContrastiveLoss(temperature=temperature, batch_size=batch_size)\n",
        "    # - epochs\n",
        "    losses = []\n",
        "    for epoch in (pbar:=tqdm(range(n_epochs))):\n",
        "        epoch_loss = 0\n",
        "        model.train()\n",
        "\n",
        "        # TODO: implement a training epoch of SimCLR\n",
        "        for (x1, x2), _ in train_loader:\n",
        "          x1, x2 = x1.to(device), x2.to(device)\n",
        "\n",
        "          optimizer.zero_grad()\n",
        "\n",
        "          # Calculate the projection features\n",
        "          _, z1 = model(x1)\n",
        "          _, z2 = model(x2)\n",
        "\n",
        "          # Calculate constrasive loss\n",
        "          loss = criterion(z1, z2)\n",
        "\n",
        "          loss.backward()\n",
        "          optimizer.step()\n",
        "\n",
        "          epoch_loss += loss.item()\n",
        "\n",
        "        # track epoch loss\n",
        "        epoch_loss /= len(train_loader)\n",
        "        losses.append(epoch_loss)\n",
        "        print(f\"[Epoch {epoch+1}/{n_epochs}]  Loss: {epoch_loss:.4f}\")\n",
        "\n",
        "    # print losses.\n",
        "    plt.figure(figsize=(10, 5))\n",
        "    plt.plot(losses)\n",
        "\n",
        "    return model"
      ]
    },
    {
      "cell_type": "code",
      "execution_count": null,
      "metadata": {
        "colab": {
          "base_uri": "https://localhost:8080/",
          "height": 1000
        },
        "id": "3eioApNXF_jl",
        "outputId": "3cd6de38-f08d-48fb-f98f-de33a1960b6c"
      },
      "outputs": [
        {
          "name": "stdout",
          "output_type": "stream",
          "text": [
            "Files already downloaded and verified\n"
          ]
        },
        {
          "name": "stderr",
          "output_type": "stream",
          "text": [
            "  3%|▎         | 1/35 [02:55<1:39:30, 175.61s/it]"
          ]
        },
        {
          "name": "stdout",
          "output_type": "stream",
          "text": [
            "[Epoch 1/35]  Loss: 5.2989\n"
          ]
        },
        {
          "name": "stderr",
          "output_type": "stream",
          "text": [
            "\r  6%|▌         | 2/35 [05:51<1:36:39, 175.74s/it]"
          ]
        },
        {
          "name": "stdout",
          "output_type": "stream",
          "text": [
            "[Epoch 2/35]  Loss: 4.7121\n"
          ]
        },
        {
          "name": "stderr",
          "output_type": "stream",
          "text": [
            "\r  9%|▊         | 3/35 [08:46<1:33:28, 175.27s/it]"
          ]
        },
        {
          "name": "stdout",
          "output_type": "stream",
          "text": [
            "[Epoch 3/35]  Loss: 4.4185\n"
          ]
        },
        {
          "name": "stderr",
          "output_type": "stream",
          "text": [
            "\r 11%|█▏        | 4/35 [11:40<1:30:25, 175.02s/it]"
          ]
        },
        {
          "name": "stdout",
          "output_type": "stream",
          "text": [
            "[Epoch 4/35]  Loss: 4.1533\n"
          ]
        },
        {
          "name": "stderr",
          "output_type": "stream",
          "text": [
            "\r 14%|█▍        | 5/35 [14:34<1:27:21, 174.72s/it]"
          ]
        },
        {
          "name": "stdout",
          "output_type": "stream",
          "text": [
            "[Epoch 5/35]  Loss: 3.9600\n"
          ]
        },
        {
          "name": "stderr",
          "output_type": "stream",
          "text": [
            "\r 17%|█▋        | 6/35 [17:29<1:24:21, 174.53s/it]"
          ]
        },
        {
          "name": "stdout",
          "output_type": "stream",
          "text": [
            "[Epoch 6/35]  Loss: 3.8295\n"
          ]
        },
        {
          "name": "stderr",
          "output_type": "stream",
          "text": [
            "\r 20%|██        | 7/35 [20:22<1:21:14, 174.11s/it]"
          ]
        },
        {
          "name": "stdout",
          "output_type": "stream",
          "text": [
            "[Epoch 7/35]  Loss: 3.6760\n"
          ]
        },
        {
          "name": "stderr",
          "output_type": "stream",
          "text": [
            "\r 23%|██▎       | 8/35 [23:16<1:18:24, 174.25s/it]"
          ]
        },
        {
          "name": "stdout",
          "output_type": "stream",
          "text": [
            "[Epoch 8/35]  Loss: 3.5807\n"
          ]
        },
        {
          "name": "stderr",
          "output_type": "stream",
          "text": [
            "\r 26%|██▌       | 9/35 [26:11<1:15:32, 174.31s/it]"
          ]
        },
        {
          "name": "stdout",
          "output_type": "stream",
          "text": [
            "[Epoch 9/35]  Loss: 3.4817\n"
          ]
        },
        {
          "name": "stderr",
          "output_type": "stream",
          "text": [
            "\r 29%|██▊       | 10/35 [29:05<1:12:36, 174.26s/it]"
          ]
        },
        {
          "name": "stdout",
          "output_type": "stream",
          "text": [
            "[Epoch 10/35]  Loss: 3.3994\n"
          ]
        },
        {
          "name": "stderr",
          "output_type": "stream",
          "text": [
            "\r 31%|███▏      | 11/35 [31:59<1:09:43, 174.31s/it]"
          ]
        },
        {
          "name": "stdout",
          "output_type": "stream",
          "text": [
            "[Epoch 11/35]  Loss: 3.3242\n"
          ]
        },
        {
          "name": "stderr",
          "output_type": "stream",
          "text": [
            "\r 34%|███▍      | 12/35 [34:54<1:06:48, 174.28s/it]"
          ]
        },
        {
          "name": "stdout",
          "output_type": "stream",
          "text": [
            "[Epoch 12/35]  Loss: 3.2494\n"
          ]
        },
        {
          "name": "stderr",
          "output_type": "stream",
          "text": [
            "\r 37%|███▋      | 13/35 [37:48<1:03:51, 174.17s/it]"
          ]
        },
        {
          "name": "stdout",
          "output_type": "stream",
          "text": [
            "[Epoch 13/35]  Loss: 3.1822\n"
          ]
        },
        {
          "name": "stderr",
          "output_type": "stream",
          "text": [
            "\r 40%|████      | 14/35 [40:43<1:01:04, 174.50s/it]"
          ]
        },
        {
          "name": "stdout",
          "output_type": "stream",
          "text": [
            "[Epoch 14/35]  Loss: 3.1199\n"
          ]
        },
        {
          "name": "stderr",
          "output_type": "stream",
          "text": [
            "\r 43%|████▎     | 15/35 [43:37<58:09, 174.48s/it]  "
          ]
        },
        {
          "name": "stdout",
          "output_type": "stream",
          "text": [
            "[Epoch 15/35]  Loss: 3.0861\n"
          ]
        },
        {
          "name": "stderr",
          "output_type": "stream",
          "text": [
            "\r 46%|████▌     | 16/35 [46:31<55:13, 174.37s/it]"
          ]
        },
        {
          "name": "stdout",
          "output_type": "stream",
          "text": [
            "[Epoch 16/35]  Loss: 2.9902\n"
          ]
        },
        {
          "name": "stderr",
          "output_type": "stream",
          "text": [
            "\r 49%|████▊     | 17/35 [49:26<52:22, 174.58s/it]"
          ]
        },
        {
          "name": "stdout",
          "output_type": "stream",
          "text": [
            "[Epoch 17/35]  Loss: 2.9611\n"
          ]
        },
        {
          "name": "stderr",
          "output_type": "stream",
          "text": [
            "\r 51%|█████▏    | 18/35 [52:22<49:32, 174.86s/it]"
          ]
        },
        {
          "name": "stdout",
          "output_type": "stream",
          "text": [
            "[Epoch 18/35]  Loss: 2.9250\n"
          ]
        },
        {
          "name": "stderr",
          "output_type": "stream",
          "text": [
            "\r 54%|█████▍    | 19/35 [55:16<46:35, 174.69s/it]"
          ]
        },
        {
          "name": "stdout",
          "output_type": "stream",
          "text": [
            "[Epoch 19/35]  Loss: 2.9071\n"
          ]
        },
        {
          "name": "stderr",
          "output_type": "stream",
          "text": [
            "\r 57%|█████▋    | 20/35 [58:10<43:37, 174.51s/it]"
          ]
        },
        {
          "name": "stdout",
          "output_type": "stream",
          "text": [
            "[Epoch 20/35]  Loss: 2.8366\n"
          ]
        },
        {
          "name": "stderr",
          "output_type": "stream",
          "text": [
            "\r 60%|██████    | 21/35 [1:01:05<40:42, 174.44s/it]"
          ]
        },
        {
          "name": "stdout",
          "output_type": "stream",
          "text": [
            "[Epoch 21/35]  Loss: 2.8114\n"
          ]
        },
        {
          "name": "stderr",
          "output_type": "stream",
          "text": [
            "\r 63%|██████▎   | 22/35 [1:04:00<37:50, 174.64s/it]"
          ]
        },
        {
          "name": "stdout",
          "output_type": "stream",
          "text": [
            "[Epoch 22/35]  Loss: 2.7864\n"
          ]
        },
        {
          "name": "stderr",
          "output_type": "stream",
          "text": [
            "\r 66%|██████▌   | 23/35 [1:06:54<34:55, 174.61s/it]"
          ]
        },
        {
          "name": "stdout",
          "output_type": "stream",
          "text": [
            "[Epoch 23/35]  Loss: 2.7554\n"
          ]
        },
        {
          "name": "stderr",
          "output_type": "stream",
          "text": [
            "\r 69%|██████▊   | 24/35 [1:09:50<32:05, 175.02s/it]"
          ]
        },
        {
          "name": "stdout",
          "output_type": "stream",
          "text": [
            "[Epoch 24/35]  Loss: 2.7024\n"
          ]
        },
        {
          "name": "stderr",
          "output_type": "stream",
          "text": [
            "\r 71%|███████▏  | 25/35 [1:12:45<29:09, 174.97s/it]"
          ]
        },
        {
          "name": "stdout",
          "output_type": "stream",
          "text": [
            "[Epoch 25/35]  Loss: 2.6648\n"
          ]
        },
        {
          "name": "stderr",
          "output_type": "stream",
          "text": [
            "\r 74%|███████▍  | 26/35 [1:15:41<26:16, 175.13s/it]"
          ]
        },
        {
          "name": "stdout",
          "output_type": "stream",
          "text": [
            "[Epoch 26/35]  Loss: 2.6363\n"
          ]
        },
        {
          "name": "stderr",
          "output_type": "stream",
          "text": [
            "\r 77%|███████▋  | 27/35 [1:18:36<23:21, 175.25s/it]"
          ]
        },
        {
          "name": "stdout",
          "output_type": "stream",
          "text": [
            "[Epoch 27/35]  Loss: 2.6326\n"
          ]
        },
        {
          "name": "stderr",
          "output_type": "stream",
          "text": [
            "\r 80%|████████  | 28/35 [1:21:31<20:24, 175.00s/it]"
          ]
        },
        {
          "name": "stdout",
          "output_type": "stream",
          "text": [
            "[Epoch 28/35]  Loss: 2.5900\n"
          ]
        },
        {
          "name": "stderr",
          "output_type": "stream",
          "text": [
            "\r 83%|████████▎ | 29/35 [1:24:25<17:29, 174.86s/it]"
          ]
        },
        {
          "name": "stdout",
          "output_type": "stream",
          "text": [
            "[Epoch 29/35]  Loss: 2.5592\n"
          ]
        },
        {
          "name": "stderr",
          "output_type": "stream",
          "text": [
            "\r 86%|████████▌ | 30/35 [1:27:19<14:33, 174.68s/it]"
          ]
        },
        {
          "name": "stdout",
          "output_type": "stream",
          "text": [
            "[Epoch 30/35]  Loss: 2.5393\n"
          ]
        },
        {
          "name": "stderr",
          "output_type": "stream",
          "text": [
            "\r 89%|████████▊ | 31/35 [1:30:13<11:37, 174.45s/it]"
          ]
        },
        {
          "name": "stdout",
          "output_type": "stream",
          "text": [
            "[Epoch 31/35]  Loss: 2.5114\n"
          ]
        },
        {
          "name": "stderr",
          "output_type": "stream",
          "text": [
            "\r 91%|█████████▏| 32/35 [1:33:07<08:42, 174.33s/it]"
          ]
        },
        {
          "name": "stdout",
          "output_type": "stream",
          "text": [
            "[Epoch 32/35]  Loss: 2.4942\n"
          ]
        },
        {
          "name": "stderr",
          "output_type": "stream",
          "text": [
            "\r 94%|█████████▍| 33/35 [1:36:00<05:47, 173.99s/it]"
          ]
        },
        {
          "name": "stdout",
          "output_type": "stream",
          "text": [
            "[Epoch 33/35]  Loss: 2.4853\n"
          ]
        },
        {
          "name": "stderr",
          "output_type": "stream",
          "text": [
            "\r 97%|█████████▋| 34/35 [1:38:53<02:53, 173.58s/it]"
          ]
        },
        {
          "name": "stdout",
          "output_type": "stream",
          "text": [
            "[Epoch 34/35]  Loss: 2.4258\n"
          ]
        },
        {
          "name": "stderr",
          "output_type": "stream",
          "text": [
            "100%|██████████| 35/35 [1:41:47<00:00, 174.49s/it]"
          ]
        },
        {
          "name": "stdout",
          "output_type": "stream",
          "text": [
            "[Epoch 35/35]  Loss: 2.4269\n"
          ]
        },
        {
          "name": "stderr",
          "output_type": "stream",
          "text": [
            "\n"
          ]
        },
        {
          "data": {
            "image/png": "[encoded data removed]",
            "text/plain": [
              "<Figure size 1000x500 with 1 Axes>"
            ]
          },
          "metadata": {},
          "output_type": "display_data"
        }
      ],
      "source": [
        "batch_size = 256 # Hparam to complete. You can try other values. The bigger the better.\n",
        "lr = 3e-4 # Hparam to complete. You can try other values.\n",
        "n_epochs = 35 # Hparam to complete. You can try other values. The bigger the better.\n",
        "\n",
        "simclr_model = unsupervised_training(device=device, lr=lr, n_epochs=n_epochs, batch_size=batch_size)"
      ]
    },
    {
      "cell_type": "code",
      "execution_count": 23,
      "metadata": {
        "colab": {
          "base_uri": "https://localhost:8080/"
        },
        "id": "hE4ty0H-y6sp",
        "outputId": "fd7b93e9-e023-4430-ee69-f2186beb7f0d"
      },
      "outputs": [
        {
          "name": "stdout",
          "output_type": "stream",
          "text": [
            "Model saved successfully!\n"
          ]
        }
      ],
      "source": [
        "# Store Model\n",
        "torch.save(simclr_model, \"simclr_model_complete.pth\")\n",
        "print(\"Model saved successfully!\")"
      ]
    },
    {
      "cell_type": "markdown",
      "metadata": {
        "id": "vQqJQTnnF_jm"
      },
      "source": [
        "### Question 1.6\n",
        "\n",
        "Now that the model has been pretrained, let's finetune it on the downstream task: classification.\n",
        "\n",
        "Add a linear classifier on top of the representation and train all (both the backbone from the SimCLR model: the Resnet-18 pretrained and the linear classifier) on CIFAR-100 for 20 epochs using `CrossEntropyLoss`  and log both train and test loss and accuracies.\n",
        "The model should converge faster than when trained in a full-supervised way, and achieve a better accuracy.\n",
        "\n",
        "Hparameters are to be choosen to your discretion."
      ]
    },
    {
      "cell_type": "code",
      "execution_count": 28,
      "metadata": {
        "id": "TIlsNj2BF_jm"
      },
      "outputs": [],
      "source": [
        "def supervised_training(simclr_model,\n",
        "                   n_classes,\n",
        "                   n_epochs,\n",
        "                   lr,\n",
        "                   device,\n",
        "                   batch_size):\n",
        "\n",
        "    # - data\n",
        "    train_transform = transforms.Compose([\n",
        "        transforms.autoaugment.AutoAugment(policy=transforms.AutoAugmentPolicy.CIFAR10),\n",
        "        transforms.ToTensor(),\n",
        "        transforms.Normalize((0.4914, 0.4822, 0.4465), (0.2470, 0.2435, 0.2616))])\n",
        "    test_transform = transforms.Compose([\n",
        "        transforms.ToTensor(),\n",
        "        transforms.Normalize((0.4914, 0.4822, 0.4465), (0.2470, 0.2435, 0.2616))])\n",
        "    trainset = torchvision.datasets.CIFAR100(root=\"./data\", train=True, transform=train_transform, download=True)\n",
        "    trainloader = torch.utils.data.DataLoader(trainset,batch_size=128,shuffle=True,num_workers=2)\n",
        "\n",
        "    testset = torchvision.datasets.CIFAR100(root=\"./data\", train=False, transform=test_transform, download=True)\n",
        "    testloader = torch.utils.data.DataLoader(testset, batch_size=batch_size,shuffle=False, num_workers=2)\n",
        "\n",
        "    # TODO: define a model consisting of 1) the encoder backbone of simclr model followed by 2) a linear layer\n",
        "    # model = ...\n",
        "    out_features = simclr_model.projector[0].in_features\n",
        "\n",
        "    model = simclr_model\n",
        "    model.backbone.fc = nn.Linear(out_features, n_classes)\n",
        "    model = model.to(device)\n",
        "\n",
        "    # criterion and optimizer\n",
        "    criterion = nn.CrossEntropyLoss()\n",
        "    optimizer = torch.optim.Adam(model.parameters(), lr=lr, weight_decay = 1e-5)\n",
        "\n",
        "    # - training loop\n",
        "    train_losses = []\n",
        "    train_accuracies = []\n",
        "    test_accuracies = []\n",
        "    test_losses  = []\n",
        "    for epoch in range(n_epochs): # loop over the dataset multiple times\n",
        "        model.train()\n",
        "        epoch_loss = 0.0\n",
        "        epoch_acc = 0.0\n",
        "        print(f\"Running epoch {epoch}\")\n",
        "        for _, batch in enumerate(tqdm(trainloader), 0):\n",
        "            inputs, labels = batch[0].to(device), batch[1].to(device)\n",
        "\n",
        "            # TODO: complete the remaining train code here.\n",
        "\n",
        "            # TODO 0: zero the gradients\n",
        "            optimizer.zero_grad()\n",
        "\n",
        "            # TODO 1: get the predictions and compute loss\n",
        "            outputs = model.backbone(inputs)\n",
        "            loss = criterion(outputs, labels)\n",
        "\n",
        "            # TODO 2: do backward\n",
        "            loss.backward()\n",
        "            optimizer.step()\n",
        "\n",
        "            # TODO 3: compute accuracy, track loss and accuracy\n",
        "            epoch_loss += loss.item()\n",
        "            epoch_acc += (outputs.argmax(dim=1) == labels).sum().item()\n",
        "\n",
        "        # TODO 4: compute average train loss and accuracy\n",
        "        epoch_loss /= len(trainloader)\n",
        "        epoch_acc /= len(trainloader.dataset)\n",
        "        epoch_acc *= 100\n",
        "\n",
        "        # Print and track training loss and accuracy.\n",
        "        print(f'Epoch {epoch+1}/{n_epochs}, Train Loss: {epoch_loss:.3f}, Train Acc: {epoch_acc:.3f}')\n",
        "        train_losses.append(epoch_loss)\n",
        "        train_accuracies.append(epoch_acc)\n",
        "\n",
        "        with torch.no_grad():\n",
        "            test_acc = 0\n",
        "            test_loss = 0\n",
        "            for _, batch in enumerate(tqdm(testloader)):\n",
        "                inputs, labels = batch[0].to(device), batch[1].to(device)\n",
        "\n",
        "                # TODO: complete the remaining test code here.\n",
        "\n",
        "                # TODO 1: get prediction\n",
        "                outputs = model.backbone(inputs)\n",
        "\n",
        "                # TODO 2: compute loss\n",
        "                loss = criterion(outputs, labels)\n",
        "                test_loss += loss.item()\n",
        "\n",
        "                # TODO 3: compute accuracy\n",
        "                test_acc += (outputs.argmax(dim=1) == labels).sum().item()\n",
        "\n",
        "            # TODO 4: compute average test loss and accuracy\n",
        "            test_loss /= len(testloader)\n",
        "            test_acc /= len(testloader.dataset)\n",
        "            test_acc *= 100\n",
        "\n",
        "            # Print and track test loss and accuracy.\n",
        "            test_accuracies.append(test_acc)\n",
        "            test_losses.append(test_loss)\n",
        "            print(f'Epoch {epoch+1}/{n_epochs}, Train Loss: {epoch_loss:.3f}, Train Acc: {epoch_acc:.3f}, Test Loss: {test_loss:.3f}, Test Acc: {test_acc:.3f}')\n",
        "\n",
        "    # Do plots\n",
        "    plt.plot(train_losses, label=\"train loss\")\n",
        "    plt.plot(test_losses, label=\"test loss\")\n",
        "    plt.show()\n",
        "    # - acc curves\n",
        "    plt.plot(train_accuracies, label=\"train accuracy\")\n",
        "    plt.plot(test_accuracies, label=\"test accuracy\")\n",
        "    plt.show()\n"
      ]
    },
    {
      "cell_type": "code",
      "execution_count": null,
      "metadata": {
        "colab": {
          "base_uri": "https://localhost:8080/",
          "height": 1000
        },
        "id": "izskd4jiF_jm",
        "outputId": "f8b0983c-e1a6-4e51-d33e-0449e5a0bfa3"
      },
      "outputs": [
        {
          "name": "stdout",
          "output_type": "stream",
          "text": [
            "Files already downloaded and verified\n",
            "Files already downloaded and verified\n",
            "Running epoch 0\n"
          ]
        },
        {
          "name": "stderr",
          "output_type": "stream",
          "text": [
            "100%|██████████| 391/391 [00:15<00:00, 24.64it/s]\n"
          ]
        },
        {
          "name": "stdout",
          "output_type": "stream",
          "text": [
            "Epoch 1/20, Train Loss: 2.183, Train Acc: 56.000\n"
          ]
        },
        {
          "name": "stderr",
          "output_type": "stream",
          "text": [
            "100%|██████████| 79/79 [00:01<00:00, 52.67it/s]\n"
          ]
        },
        {
          "name": "stdout",
          "output_type": "stream",
          "text": [
            "Epoch 1/20, Train Loss: 2.183, Train Acc: 56.000, Test Loss: 1.942, Test Acc: 50.550\n",
            "Running epoch 1\n"
          ]
        },
        {
          "name": "stderr",
          "output_type": "stream",
          "text": [
            "100%|██████████| 391/391 [00:15<00:00, 24.85it/s]\n"
          ]
        },
        {
          "name": "stdout",
          "output_type": "stream",
          "text": [
            "Epoch 2/20, Train Loss: 1.088, Train Acc: 75.424\n"
          ]
        },
        {
          "name": "stderr",
          "output_type": "stream",
          "text": [
            "100%|██████████| 79/79 [00:01<00:00, 59.54it/s]\n"
          ]
        },
        {
          "name": "stdout",
          "output_type": "stream",
          "text": [
            "Epoch 2/20, Train Loss: 1.088, Train Acc: 75.424, Test Loss: 1.914, Test Acc: 51.320\n",
            "Running epoch 2\n"
          ]
        },
        {
          "name": "stderr",
          "output_type": "stream",
          "text": [
            "100%|██████████| 391/391 [00:15<00:00, 24.79it/s]\n"
          ]
        },
        {
          "name": "stdout",
          "output_type": "stream",
          "text": [
            "Epoch 3/20, Train Loss: 0.948, Train Acc: 77.356\n"
          ]
        },
        {
          "name": "stderr",
          "output_type": "stream",
          "text": [
            "100%|██████████| 79/79 [00:01<00:00, 53.27it/s]\n"
          ]
        },
        {
          "name": "stdout",
          "output_type": "stream",
          "text": [
            "Epoch 3/20, Train Loss: 0.948, Train Acc: 77.356, Test Loss: 1.964, Test Acc: 51.640\n",
            "Running epoch 3\n"
          ]
        },
        {
          "name": "stderr",
          "output_type": "stream",
          "text": [
            "100%|██████████| 391/391 [00:15<00:00, 24.92it/s]\n"
          ]
        },
        {
          "name": "stdout",
          "output_type": "stream",
          "text": [
            "Epoch 4/20, Train Loss: 0.868, Train Acc: 78.790\n"
          ]
        },
        {
          "name": "stderr",
          "output_type": "stream",
          "text": [
            "100%|██████████| 79/79 [00:01<00:00, 58.80it/s]\n"
          ]
        },
        {
          "name": "stdout",
          "output_type": "stream",
          "text": [
            "Epoch 4/20, Train Loss: 0.868, Train Acc: 78.790, Test Loss: 1.992, Test Acc: 51.420\n",
            "Running epoch 4\n"
          ]
        },
        {
          "name": "stderr",
          "output_type": "stream",
          "text": [
            "100%|██████████| 391/391 [00:16<00:00, 24.41it/s]\n"
          ]
        },
        {
          "name": "stdout",
          "output_type": "stream",
          "text": [
            "Epoch 5/20, Train Loss: 0.823, Train Acc: 79.736\n"
          ]
        },
        {
          "name": "stderr",
          "output_type": "stream",
          "text": [
            "100%|██████████| 79/79 [00:01<00:00, 56.44it/s]\n"
          ]
        },
        {
          "name": "stdout",
          "output_type": "stream",
          "text": [
            "Epoch 5/20, Train Loss: 0.823, Train Acc: 79.736, Test Loss: 2.023, Test Acc: 51.670\n",
            "Running epoch 5\n"
          ]
        },
        {
          "name": "stderr",
          "output_type": "stream",
          "text": [
            "100%|██████████| 391/391 [00:15<00:00, 24.91it/s]\n"
          ]
        },
        {
          "name": "stdout",
          "output_type": "stream",
          "text": [
            "Epoch 6/20, Train Loss: 0.797, Train Acc: 80.302\n"
          ]
        },
        {
          "name": "stderr",
          "output_type": "stream",
          "text": [
            "100%|██████████| 79/79 [00:01<00:00, 56.30it/s]\n"
          ]
        },
        {
          "name": "stdout",
          "output_type": "stream",
          "text": [
            "Epoch 6/20, Train Loss: 0.797, Train Acc: 80.302, Test Loss: 2.045, Test Acc: 51.180\n",
            "Running epoch 6\n"
          ]
        },
        {
          "name": "stderr",
          "output_type": "stream",
          "text": [
            "100%|██████████| 391/391 [00:15<00:00, 24.51it/s]\n"
          ]
        },
        {
          "name": "stdout",
          "output_type": "stream",
          "text": [
            "Epoch 7/20, Train Loss: 0.776, Train Acc: 80.730\n"
          ]
        },
        {
          "name": "stderr",
          "output_type": "stream",
          "text": [
            "100%|██████████| 79/79 [00:01<00:00, 62.05it/s]\n"
          ]
        },
        {
          "name": "stdout",
          "output_type": "stream",
          "text": [
            "Epoch 7/20, Train Loss: 0.776, Train Acc: 80.730, Test Loss: 2.073, Test Acc: 51.680\n",
            "Running epoch 7\n"
          ]
        },
        {
          "name": "stderr",
          "output_type": "stream",
          "text": [
            "100%|██████████| 391/391 [00:15<00:00, 24.67it/s]\n"
          ]
        },
        {
          "name": "stdout",
          "output_type": "stream",
          "text": [
            "Epoch 8/20, Train Loss: 0.760, Train Acc: 81.126\n"
          ]
        },
        {
          "name": "stderr",
          "output_type": "stream",
          "text": [
            "100%|██████████| 79/79 [00:01<00:00, 61.46it/s]\n"
          ]
        },
        {
          "name": "stdout",
          "output_type": "stream",
          "text": [
            "Epoch 8/20, Train Loss: 0.760, Train Acc: 81.126, Test Loss: 2.090, Test Acc: 51.910\n",
            "Running epoch 8\n"
          ]
        },
        {
          "name": "stderr",
          "output_type": "stream",
          "text": [
            "100%|██████████| 391/391 [00:15<00:00, 24.44it/s]\n"
          ]
        },
        {
          "name": "stdout",
          "output_type": "stream",
          "text": [
            "Epoch 9/20, Train Loss: 0.739, Train Acc: 81.688\n"
          ]
        },
        {
          "name": "stderr",
          "output_type": "stream",
          "text": [
            "100%|██████████| 79/79 [00:01<00:00, 64.06it/s]\n"
          ]
        },
        {
          "name": "stdout",
          "output_type": "stream",
          "text": [
            "Epoch 9/20, Train Loss: 0.739, Train Acc: 81.688, Test Loss: 2.106, Test Acc: 51.720\n",
            "Running epoch 9\n"
          ]
        },
        {
          "name": "stderr",
          "output_type": "stream",
          "text": [
            "100%|██████████| 391/391 [00:15<00:00, 24.57it/s]\n"
          ]
        },
        {
          "name": "stdout",
          "output_type": "stream",
          "text": [
            "Epoch 10/20, Train Loss: 0.731, Train Acc: 81.754\n"
          ]
        },
        {
          "name": "stderr",
          "output_type": "stream",
          "text": [
            "100%|██████████| 79/79 [00:01<00:00, 60.20it/s]\n"
          ]
        },
        {
          "name": "stdout",
          "output_type": "stream",
          "text": [
            "Epoch 10/20, Train Loss: 0.731, Train Acc: 81.754, Test Loss: 2.123, Test Acc: 51.430\n",
            "Running epoch 10\n"
          ]
        },
        {
          "name": "stderr",
          "output_type": "stream",
          "text": [
            "100%|██████████| 391/391 [00:15<00:00, 24.59it/s]\n"
          ]
        },
        {
          "name": "stdout",
          "output_type": "stream",
          "text": [
            "Epoch 11/20, Train Loss: 0.720, Train Acc: 81.976\n"
          ]
        },
        {
          "name": "stderr",
          "output_type": "stream",
          "text": [
            "100%|██████████| 79/79 [00:01<00:00, 54.99it/s]\n"
          ]
        },
        {
          "name": "stdout",
          "output_type": "stream",
          "text": [
            "Epoch 11/20, Train Loss: 0.720, Train Acc: 81.976, Test Loss: 2.133, Test Acc: 51.310\n",
            "Running epoch 11\n"
          ]
        },
        {
          "name": "stderr",
          "output_type": "stream",
          "text": [
            "100%|██████████| 391/391 [00:15<00:00, 24.84it/s]\n"
          ]
        },
        {
          "name": "stdout",
          "output_type": "stream",
          "text": [
            "Epoch 12/20, Train Loss: 0.707, Train Acc: 82.328\n"
          ]
        },
        {
          "name": "stderr",
          "output_type": "stream",
          "text": [
            "100%|██████████| 79/79 [00:01<00:00, 57.64it/s]\n"
          ]
        },
        {
          "name": "stdout",
          "output_type": "stream",
          "text": [
            "Epoch 12/20, Train Loss: 0.707, Train Acc: 82.328, Test Loss: 2.146, Test Acc: 51.380\n",
            "Running epoch 12\n"
          ]
        },
        {
          "name": "stderr",
          "output_type": "stream",
          "text": [
            "100%|██████████| 391/391 [00:15<00:00, 24.86it/s]\n"
          ]
        },
        {
          "name": "stdout",
          "output_type": "stream",
          "text": [
            "Epoch 13/20, Train Loss: 0.691, Train Acc: 82.862\n"
          ]
        },
        {
          "name": "stderr",
          "output_type": "stream",
          "text": [
            "100%|██████████| 79/79 [00:01<00:00, 56.63it/s]\n"
          ]
        },
        {
          "name": "stdout",
          "output_type": "stream",
          "text": [
            "Epoch 13/20, Train Loss: 0.691, Train Acc: 82.862, Test Loss: 2.166, Test Acc: 51.490\n",
            "Running epoch 13\n"
          ]
        },
        {
          "name": "stderr",
          "output_type": "stream",
          "text": [
            "100%|██████████| 391/391 [00:15<00:00, 24.84it/s]\n"
          ]
        },
        {
          "name": "stdout",
          "output_type": "stream",
          "text": [
            "Epoch 14/20, Train Loss: 0.690, Train Acc: 82.830\n"
          ]
        },
        {
          "name": "stderr",
          "output_type": "stream",
          "text": [
            "100%|██████████| 79/79 [00:01<00:00, 62.19it/s]\n"
          ]
        },
        {
          "name": "stdout",
          "output_type": "stream",
          "text": [
            "Epoch 14/20, Train Loss: 0.690, Train Acc: 82.830, Test Loss: 2.172, Test Acc: 50.860\n",
            "Running epoch 14\n"
          ]
        },
        {
          "name": "stderr",
          "output_type": "stream",
          "text": [
            "100%|██████████| 391/391 [00:15<00:00, 24.85it/s]\n"
          ]
        },
        {
          "name": "stdout",
          "output_type": "stream",
          "text": [
            "Epoch 15/20, Train Loss: 0.690, Train Acc: 82.764\n"
          ]
        },
        {
          "name": "stderr",
          "output_type": "stream",
          "text": [
            "100%|██████████| 79/79 [00:01<00:00, 59.86it/s]\n"
          ]
        },
        {
          "name": "stdout",
          "output_type": "stream",
          "text": [
            "Epoch 15/20, Train Loss: 0.690, Train Acc: 82.764, Test Loss: 2.177, Test Acc: 51.400\n",
            "Running epoch 15\n"
          ]
        },
        {
          "name": "stderr",
          "output_type": "stream",
          "text": [
            "100%|██████████| 391/391 [00:15<00:00, 24.88it/s]\n"
          ]
        },
        {
          "name": "stdout",
          "output_type": "stream",
          "text": [
            "Epoch 16/20, Train Loss: 0.677, Train Acc: 83.108\n"
          ]
        },
        {
          "name": "stderr",
          "output_type": "stream",
          "text": [
            "100%|██████████| 79/79 [00:01<00:00, 60.45it/s]\n"
          ]
        },
        {
          "name": "stdout",
          "output_type": "stream",
          "text": [
            "Epoch 16/20, Train Loss: 0.677, Train Acc: 83.108, Test Loss: 2.184, Test Acc: 51.610\n",
            "Running epoch 16\n"
          ]
        },
        {
          "name": "stderr",
          "output_type": "stream",
          "text": [
            "100%|██████████| 391/391 [00:15<00:00, 24.49it/s]\n"
          ]
        },
        {
          "name": "stdout",
          "output_type": "stream",
          "text": [
            "Epoch 17/20, Train Loss: 0.660, Train Acc: 83.324\n"
          ]
        },
        {
          "name": "stderr",
          "output_type": "stream",
          "text": [
            "100%|██████████| 79/79 [00:01<00:00, 60.97it/s]\n"
          ]
        },
        {
          "name": "stdout",
          "output_type": "stream",
          "text": [
            "Epoch 17/20, Train Loss: 0.660, Train Acc: 83.324, Test Loss: 2.203, Test Acc: 51.660\n",
            "Running epoch 17\n"
          ]
        },
        {
          "name": "stderr",
          "output_type": "stream",
          "text": [
            "100%|██████████| 391/391 [00:15<00:00, 24.82it/s]\n"
          ]
        },
        {
          "name": "stdout",
          "output_type": "stream",
          "text": [
            "Epoch 18/20, Train Loss: 0.667, Train Acc: 83.350\n"
          ]
        },
        {
          "name": "stderr",
          "output_type": "stream",
          "text": [
            "100%|██████████| 79/79 [00:01<00:00, 55.54it/s]\n"
          ]
        },
        {
          "name": "stdout",
          "output_type": "stream",
          "text": [
            "Epoch 18/20, Train Loss: 0.667, Train Acc: 83.350, Test Loss: 2.194, Test Acc: 51.530\n",
            "Running epoch 18\n"
          ]
        },
        {
          "name": "stderr",
          "output_type": "stream",
          "text": [
            "100%|██████████| 391/391 [00:16<00:00, 24.25it/s]\n"
          ]
        },
        {
          "name": "stdout",
          "output_type": "stream",
          "text": [
            "Epoch 19/20, Train Loss: 0.653, Train Acc: 83.600\n"
          ]
        },
        {
          "name": "stderr",
          "output_type": "stream",
          "text": [
            "100%|██████████| 79/79 [00:01<00:00, 62.05it/s]\n"
          ]
        },
        {
          "name": "stdout",
          "output_type": "stream",
          "text": [
            "Epoch 19/20, Train Loss: 0.653, Train Acc: 83.600, Test Loss: 2.222, Test Acc: 50.940\n",
            "Running epoch 19\n"
          ]
        },
        {
          "name": "stderr",
          "output_type": "stream",
          "text": [
            "100%|██████████| 391/391 [00:16<00:00, 24.04it/s]\n"
          ]
        },
        {
          "name": "stdout",
          "output_type": "stream",
          "text": [
            "Epoch 20/20, Train Loss: 0.652, Train Acc: 83.644\n"
          ]
        },
        {
          "name": "stderr",
          "output_type": "stream",
          "text": [
            "100%|██████████| 79/79 [00:01<00:00, 56.07it/s]\n"
          ]
        },
        {
          "name": "stdout",
          "output_type": "stream",
          "text": [
            "Epoch 20/20, Train Loss: 0.652, Train Acc: 83.644, Test Loss: 2.210, Test Acc: 51.220\n"
          ]
        },
        {
          "data": {
            "image/png": "[encoded data removed]",
            "text/plain": [
              "<Figure size 640x480 with 1 Axes>"
            ]
          },
          "metadata": {},
          "output_type": "display_data"
        },
        {
          "data": {
            "image/png": "[encoded data removed]",
            "text/plain": [
              "<Figure size 640x480 with 1 Axes>"
            ]
          },
          "metadata": {},
          "output_type": "display_data"
        }
      ],
      "source": [
        "lr = 1e-4 # Hparam to complete\n",
        "batch_size = 128 # Hparam to complete\n",
        "\n",
        "supervised_training(simclr_model=simclr_model, device=device, n_classes=100, n_epochs=20, lr=lr, batch_size=batch_size)"
      ]
    }
  ],
  "metadata": {
    "accelerator": "GPU",
    "colab": {
      "gpuType": "T4",
      "machine_shape": "hm",
      "provenance": []
    },
    "kernelspec": {
      "display_name": "Python 3",
      "name": "python3"
    },
    "language_info": {
      "codemirror_mode": {
        "name": "ipython",
        "version": 3
      },
      "file_extension": ".py",
      "mimetype": "text/x-python",
      "name": "python",
      "nbconvert_exporter": "python",
      "pygments_lexer": "ipython3",
      "version": "3.9.19"
    }
  },
  "nbformat": 4,
  "nbformat_minor": 0
}
